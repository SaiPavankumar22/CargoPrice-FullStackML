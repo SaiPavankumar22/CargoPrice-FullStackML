{
 "cells": [
  {
   "cell_type": "code",
   "execution_count": 1,
   "id": "c4323964-7ee6-45ba-af27-5f2bc1a888c5",
   "metadata": {},
   "outputs": [],
   "source": [
    "import numpy as np\n",
    "import pandas as pd\n",
    "from sklearn.model_selection import train_test_split , GridSearchCV\n",
    "from sklearn.svm import SVR\n",
    "from sklearn.tree import DecisionTreeRegressor\n",
    "from sklearn.ensemble import RandomForestRegressor"
   ]
  },
  {
   "cell_type": "code",
   "execution_count": 3,
   "id": "fff2cefc-f0b4-4dc3-a8f9-395babb77727",
   "metadata": {},
   "outputs": [],
   "source": [
    "data =pd.read_csv(\"CargoPricesDatabase.csv\")"
   ]
  },
  {
   "cell_type": "code",
   "execution_count": 5,
   "id": "0594d8e5-0927-4905-833d-450d13a73904",
   "metadata": {},
   "outputs": [],
   "source": [
    "param_grid_svm = {'C' : [0.1, 1, 10], 'kernel': ['linear', 'rbf']}\n",
    "param_grid_dt = {'max_depth': [5, 10, 15], 'min_samples_split': [2, 5, 10]}\n",
    "param_grid_rf = {'n_estimators': [100, 200], 'max_depth': [5, 10, 15]}\n",
    "models = {'SVR': (SVR(), param_grid_svm),\n",
    "    'DecisionTree': (DecisionTreeRegressor(), param_grid_dt),\n",
    "    'RandomForest': (RandomForestRegressor(), param_grid_rf)\n",
    "}"
   ]
  },
  {
   "cell_type": "code",
   "execution_count": 7,
   "id": "cfaca2e4-ee8a-43f7-bbc1-de920a72ba37",
   "metadata": {},
   "outputs": [],
   "source": [
    "def find_best_model(x_train, y_train, x_test, y_test, target_name):\n",
    "    best_model = None\n",
    "    best_score = -float('inf')\n",
    "    for model_name, (model, param_grid) in models.items():\n",
    "        grid_search = GridSearchCV(model, param_grid, cv=5, scoring='neg_mean_squared_error', n_jobs=-1)\n",
    "        grid_search.fit(x_train, y_train)\n",
    "        score = grid_search.best_estimator_.score(x_test, y_test)\n",
    "        print(f\"Model: {model_name}, Target: {target_name}, Best Params: {grid_search.best_params_}, Score: {score}\")\n",
    "        if score > best_score:\n",
    "            best_score = score\n",
    "            best_model = grid_search.best_estimator_\n",
    "    print(f\"\\nBest model for {target_name}: {type(best_model).__name__} with score: {best_score}\\n\")\n",
    "    return best_model"
   ]
  },
  {
   "cell_type": "code",
   "execution_count": 9,
   "id": "e3d29689-5e9b-4ae1-bdbd-878e68d5ce8c",
   "metadata": {},
   "outputs": [],
   "source": [
    "x = data.drop(columns=[\"Source\" , \"Destination\" , \"Price\"])"
   ]
  },
  {
   "cell_type": "code",
   "execution_count": 11,
   "id": "b4b43786-f523-4510-a09e-40565eb83c81",
   "metadata": {},
   "outputs": [],
   "source": [
    "y = data[\"Price\"]"
   ]
  },
  {
   "cell_type": "code",
   "execution_count": 13,
   "id": "87a0f6a5-6571-4a85-95ab-332836216863",
   "metadata": {},
   "outputs": [],
   "source": [
    "x_train, x_test, y_train, y_test = train_test_split(x, y, test_size=0.2, random_state=42)"
   ]
  },
  {
   "cell_type": "code",
   "execution_count": 15,
   "id": "20821cd3-ded2-480a-bc60-da6734f5dd1a",
   "metadata": {},
   "outputs": [
    {
     "name": "stdout",
     "output_type": "stream",
     "text": [
      "Model: SVR, Target: Price, Best Params: {'C': 10, 'kernel': 'linear'}, Score: 0.8949517601181413\n",
      "Model: DecisionTree, Target: Price, Best Params: {'max_depth': 10, 'min_samples_split': 5}, Score: 0.9680855569871002\n",
      "Model: RandomForest, Target: Price, Best Params: {'max_depth': 15, 'n_estimators': 200}, Score: 0.9797884279587312\n",
      "\n",
      "Best model for Price: RandomForestRegressor with score: 0.9797884279587312\n",
      "\n"
     ]
    }
   ],
   "source": [
    "best_model = find_best_model(x_train, y_train, x_test, y_test, \"Price\")"
   ]
  },
  {
   "cell_type": "code",
   "execution_count": 17,
   "id": "6d2a1172-0aaa-4616-a483-139641d6fb26",
   "metadata": {},
   "outputs": [],
   "source": [
    "y_pred = best_model.predict(x_test)\n",
    "accuracy_cargo = best_model.score(x_test, y_test)"
   ]
  },
  {
   "cell_type": "code",
   "execution_count": 19,
   "id": "3f2c86b7-d4d5-4778-a56e-57ffe0df69cc",
   "metadata": {},
   "outputs": [
    {
     "data": {
      "text/plain": [
       "array([2367.11955   , 2002.74775125, 1646.08695   , 3546.89445   ,\n",
       "       1401.21014167, 2986.85576155, 2696.1620375 , 4115.6706    ,\n",
       "       1374.2332    , 2811.2464381 , 2165.6075    , 4515.1108    ,\n",
       "       2676.6045    , 3152.25958488, 1409.2236006 , 2249.85785   ,\n",
       "        231.83475   ,  315.34315   , 4954.2334    , 3684.78165   ,\n",
       "       5025.90725   , 1760.2308    , 1595.82860833, 3917.57375   ,\n",
       "       1186.49485   , 1204.27555   , 3161.39379792,  254.4228    ,\n",
       "       3456.2525    , 2517.05824435, 5100.863     , 2497.94685   ,\n",
       "       1040.51654821, 2507.57905   , 2403.57483542, 2829.47531931,\n",
       "       2209.40003125, 4298.1093    , 3862.2288    , 2212.6049    ,\n",
       "       1361.53624167, 1490.5862531 , 2336.65663929, 3354.59717708,\n",
       "       2599.2174    , 2993.53371202, 3918.43265   , 2833.92721857,\n",
       "       3235.99355   , 1389.43891667, 3800.5623    ,  370.09805   ,\n",
       "       2670.13625   , 4377.0742    , 4391.43545   ,  208.45235   ,\n",
       "       1290.28946333, 2134.32915   , 1191.2888    , 4935.3621    ,\n",
       "       2268.23085   , 3389.08165   , 5199.3735    , 4297.8081    ,\n",
       "       1643.42224167, 3017.58707345, 1263.7248825 , 2763.93361012,\n",
       "       2433.9860325 , 1459.29498726, 1671.4965    , 2210.32045   ,\n",
       "       1930.1679    , 1987.39555   , 3631.5158    , 1211.94286429,\n",
       "       3375.23984271, 1365.19594   , 5616.99375   ,  229.0446    ,\n",
       "       1418.00155643, 1327.01895   , 2785.5526    , 2216.022195  ,\n",
       "       3337.2728    , 1443.81282167, 7570.3062    , 5077.8591    ,\n",
       "       3710.85625   , 2671.58945   , 1284.63005   , 3096.97565   ,\n",
       "       3147.06594339, 2294.484325  , 2443.89145   , 1459.2344325 ,\n",
       "       2901.29845   , 1311.17929845, 2371.57245   , 2051.96145   ,\n",
       "        207.08995   , 4084.57605   , 1499.8695    ,  279.9626    ,\n",
       "       3096.42679583, 3018.04545595, 4077.5515    , 2543.37618417,\n",
       "       4027.6086    , 5796.46395   , 1155.3360175 , 4340.5127    ,\n",
       "       1712.5365425 , 2653.415105  , 3629.441     , 3608.9034    ,\n",
       "       2658.05002917, 4270.41865   , 2882.28470917, 3124.52969667,\n",
       "        230.57765   , 3309.58812988, 3935.6433    , 3333.0633    ,\n",
       "       3216.45543655, 2805.78721012, 1097.07363125, 2414.12166857,\n",
       "       2747.82735452, 1094.35224821, 2793.00847119, 1155.30324833,\n",
       "       2575.27499667, 1408.36888333, 1244.304345  , 3119.59322571,\n",
       "       2665.15095   , 3848.59205   , 3272.98220833, 2629.43883682,\n",
       "        267.4896    , 2337.37865179, 2538.5101875 , 5681.04875   ,\n",
       "       3551.31475   , 3106.8666    , 2833.92721857,  923.790775  ,\n",
       "        230.09615   ,  232.99805   ,  433.7964    , 1179.19546982,\n",
       "       1072.8908    ,  266.68655   , 2854.15037083, 4863.8989    ,\n",
       "       2060.3825    , 1368.7601825 , 2856.88464583, 1262.72295   ,\n",
       "       5383.9516    , 2048.8539    , 2031.1786    , 2416.62733101,\n",
       "       1720.87063542, 2655.712915  , 2308.05832857,  256.42505   ,\n",
       "       3056.5633    , 2080.1329    , 2270.90087   , 1498.52858643,\n",
       "       1367.25279167, 2311.84040571, 2444.43030238, 2550.22350591,\n",
       "       6182.9081    ,  981.783125  , 5659.2822    ,  216.8909    ,\n",
       "       1081.61330357, 3240.5181025 , 3925.7075    , 2957.76515413,\n",
       "       2042.77765   , 5172.354     , 3157.77447655, 2423.25376984,\n",
       "       1449.36165   , 3260.6694    , 2467.05256667, 2284.99467571,\n",
       "        317.5308    , 2217.88743333, 1190.96015   ,  856.01085   ,\n",
       "       2338.309     , 2375.43228333, 2525.0689    , 2162.26099125])"
      ]
     },
     "execution_count": 19,
     "metadata": {},
     "output_type": "execute_result"
    }
   ],
   "source": [
    "y_pred"
   ]
  },
  {
   "cell_type": "code",
   "execution_count": 21,
   "id": "a659afe3-da04-4b44-a087-b55bd6f6437e",
   "metadata": {},
   "outputs": [
    {
     "data": {
      "text/plain": [
       "0.9797884279587312"
      ]
     },
     "execution_count": 21,
     "metadata": {},
     "output_type": "execute_result"
    }
   ],
   "source": [
    "accuracy_cargo"
   ]
  },
  {
   "cell_type": "code",
   "execution_count": 23,
   "id": "6d582673-90c1-4e0e-8766-55f5c83097b7",
   "metadata": {},
   "outputs": [],
   "source": [
    "def predict_new_values():\n",
    "    print(\"\\nEnter the following values for prediction:\")\n",
    "    features = []\n",
    "    for col in x.columns:\n",
    "        value = float(input(f\"Enter {col}: \"))\n",
    "        features.append(value)\n",
    "    input_data = pd.DataFrame([features], columns=x.columns)\n",
    "    cargo_pred = best_model.predict(input_data)\n",
    "    print(\"calculating........\")\n",
    "    print(f\"Predicted Price: {cargo_pred[0]}\")"
   ]
  },
  {
   "cell_type": "code",
   "execution_count": 25,
   "id": "9c40e37e-f584-4d57-9496-c4f9829a45fc",
   "metadata": {},
   "outputs": [
    {
     "name": "stdout",
     "output_type": "stream",
     "text": [
      "\n",
      "Enter the following values for prediction:\n"
     ]
    },
    {
     "name": "stdin",
     "output_type": "stream",
     "text": [
      "Enter Distance:  350\n",
      "Enter Cargo:  3\n",
      "Enter Urgency:  1\n",
      "Enter Fragile:  0\n",
      "Enter Weight:  50\n"
     ]
    },
    {
     "name": "stdout",
     "output_type": "stream",
     "text": [
      "calculating........\n",
      "Predicted Price: 2505.481672916668\n"
     ]
    }
   ],
   "source": [
    "predict_new_values()"
   ]
  },
  {
   "cell_type": "code",
   "execution_count": 27,
   "id": "c8c9f72f-6e4c-4e9b-b3b4-3511136d7a43",
   "metadata": {},
   "outputs": [
    {
     "data": {
      "text/plain": [
       "['DeliveryPrice.pkl']"
      ]
     },
     "execution_count": 27,
     "metadata": {},
     "output_type": "execute_result"
    }
   ],
   "source": [
    "import joblib\n",
    "joblib.dump(best_model, 'DeliveryPrice.pkl')"
   ]
  },
  {
   "cell_type": "code",
   "execution_count": null,
   "id": "90a7446e-f7c2-4f9d-a4c2-d2965315149a",
   "metadata": {},
   "outputs": [],
   "source": []
  }
 ],
 "metadata": {
  "kernelspec": {
   "display_name": "Python 3 (ipykernel)",
   "language": "python",
   "name": "python3"
  },
  "language_info": {
   "codemirror_mode": {
    "name": "ipython",
    "version": 3
   },
   "file_extension": ".py",
   "mimetype": "text/x-python",
   "name": "python",
   "nbconvert_exporter": "python",
   "pygments_lexer": "ipython3",
   "version": "3.12.4"
  }
 },
 "nbformat": 4,
 "nbformat_minor": 5
}
